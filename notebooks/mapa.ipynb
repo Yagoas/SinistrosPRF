{
 "cells": [
  {
   "cell_type": "markdown",
   "id": "a492f4dc",
   "metadata": {},
   "source": [
    "# SDB2 - Projeto de análise de dados de sinistros (PRF)"
   ]
  },
  {
   "cell_type": "markdown",
   "id": "29765a95",
   "metadata": {},
   "source": [
    "## Imports das bibliotecas"
   ]
  },
  {
   "cell_type": "code",
   "execution_count": null,
   "id": "08910439",
   "metadata": {},
   "outputs": [],
   "source": [
    "import numpy as np\n",
    "import pandas as pd\n",
    "import warnings\n",
    "warnings.filterwarnings('ignore') # somente para ignorar os warnings\n",
    "from tqdm import tqdm_notebook as tqdm # barra de progresso\n",
    "import folium # Para usar o mapa\n",
    "import folium.plugins as plugins # Para usar o cluster\n",
    "import branca"
   ]
  },
  {
   "cell_type": "markdown",
   "id": "6c61558c",
   "metadata": {},
   "source": [
    "## Import dos Dataframes"
   ]
  },
  {
   "cell_type": "code",
   "execution_count": null,
   "id": "e143d9a1",
   "metadata": {},
   "outputs": [],
   "source": [
    "df = pd.read_csv('../silver/database/sinistros_tratado.csv', sep=';', encoding='latin1', quotechar='\"', low_memory=False)"
   ]
  },
  {
   "cell_type": "markdown",
   "id": "1a8f5399",
   "metadata": {},
   "source": [
    "## Tratamento para exibição no Mapa"
   ]
  },
  {
   "cell_type": "markdown",
   "id": "49cc7785",
   "metadata": {},
   "source": [
    "### Filtrar apenas para a causa principal"
   ]
  },
  {
   "cell_type": "code",
   "execution_count": null,
   "id": "05fcc7a1",
   "metadata": {},
   "outputs": [],
   "source": [
    "df = df[df['CausaPrincipal'] == 'Sim']"
   ]
  },
  {
   "cell_type": "markdown",
   "id": "814f0672",
   "metadata": {},
   "source": [
    "### Agrupar por sinistro"
   ]
  },
  {
   "cell_type": "code",
   "execution_count": null,
   "id": "e84e57e7",
   "metadata": {},
   "outputs": [],
   "source": [
    "df = df.groupby('SinistroID').agg({\n",
    "    'Causa': 'first',\n",
    "    'TipoDoSinistro': 'first',\n",
    "    'DataHora': 'first',\n",
    "    'UF': 'first',\n",
    "    'Localidade': 'first',\n",
    "    'Regiao': 'first',\n",
    "    'Municipio': 'first',\n",
    "    'Latitude': 'first',\n",
    "    'Longitude': 'first',\n",
    "    'Ilesos': 'sum',\n",
    "    'FeridosLeves': 'sum',\n",
    "    'FeridosGraves': 'sum',\n",
    "    'Feridos': 'sum',\n",
    "    'Mortos': 'sum',\n",
    "    'UPS': 'max',\n",
    "}).reset_index()"
   ]
  },
  {
   "cell_type": "markdown",
   "id": "90327b5a",
   "metadata": {},
   "source": [
    "### Adiciona Gravidade para cada sinistro agrupado"
   ]
  },
  {
   "cell_type": "code",
   "execution_count": null,
   "id": "f652ccb6",
   "metadata": {},
   "outputs": [],
   "source": [
    "# Variáveis para definir a gravidade do sinistro\n",
    "mortos = pd.to_numeric(df.get('Mortos'), errors='coerce').fillna(0)\n",
    "feridos = pd.to_numeric(df.get('Feridos'), errors='coerce').fillna(0)\n",
    "\n",
    "# Define condições para a coluna Gravidade\n",
    "cond_morto = mortos > 0\n",
    "cond_ferido = feridos.notna() & (feridos > 0)\n",
    "cond_sem_vitima = feridos.notna() & (feridos == 0)\n",
    "\n",
    "choices = ['Com óbito', 'Com ferido', 'Sem ferido']\n",
    "conds = [cond_morto, cond_ferido, cond_sem_vitima]\n",
    "\n",
    "df['Gravidade'] = pd.Series(np.select(conds, choices, default='Não informado'), index=df.index).astype('string')"
   ]
  },
  {
   "cell_type": "markdown",
   "id": "65056509",
   "metadata": {},
   "source": [
    "### Exibe informações do Dataset"
   ]
  },
  {
   "cell_type": "code",
   "execution_count": null,
   "id": "977c8b3b",
   "metadata": {},
   "outputs": [],
   "source": [
    "df.info()"
   ]
  },
  {
   "cell_type": "markdown",
   "id": "a1255042",
   "metadata": {},
   "source": [
    "### Limpa dados geográficos"
   ]
  },
  {
   "cell_type": "code",
   "execution_count": null,
   "id": "0c8ea6e6",
   "metadata": {},
   "outputs": [],
   "source": [
    "df = df.dropna(subset=['Latitude', 'Longitude'])\n",
    "df = df[(df['Latitude'] != 0) & (df['Longitude'] != 0)]"
   ]
  },
  {
   "cell_type": "markdown",
   "id": "e84f7021",
   "metadata": {},
   "source": [
    "## Otimização do Dataset para Mapa"
   ]
  },
  {
   "cell_type": "markdown",
   "id": "3f357461",
   "metadata": {},
   "source": [
    "### Aplicação de filtros opcionais"
   ]
  },
  {
   "cell_type": "code",
   "execution_count": null,
   "id": "5ef330fd",
   "metadata": {},
   "outputs": [],
   "source": [
    "MAX_PONTOS = None  # Limite máximo de pontos no mapa\n",
    "FILTRO_UF = None   # Ex: 'DF', 'GO' para filtrar por UFs específicas\n",
    "FILTRO_ANO = None  # Ex: 2024 para filtrar apenas um ano\n",
    "FILTRO_REGIAO = None  # Ex: 'Centro-Oeste', 'Norte' para filtrar por regiões específicas"
   ]
  },
  {
   "cell_type": "code",
   "execution_count": null,
   "id": "2b77074e",
   "metadata": {},
   "outputs": [],
   "source": [
    "df_mapa = df.copy()\n",
    "\n",
    "# Filtrar por pontos com amostragem estratificada por gravidade para manter representatividade se especificado\n",
    "if MAX_PONTOS and len(df_mapa) > MAX_PONTOS:\n",
    "    # Calcular proporções de cada categoria de gravidade\n",
    "    prop_gravidade = df_mapa['Gravidade'].value_counts(normalize=True)\n",
    "    \n",
    "    # Calcular quantos pontos de cada categoria manter\n",
    "    amostras_por_gravidade = {}\n",
    "    for gravidade, prop in prop_gravidade.items():\n",
    "        amostras_por_gravidade[gravidade] = int(MAX_PONTOS * prop)\n",
    "    \n",
    "    # Fazer amostragem estratificada\n",
    "    df_amostrados = []\n",
    "    for gravidade, n_amostras in amostras_por_gravidade.items():\n",
    "        df_categoria = df_mapa[df_mapa['Gravidade'] == gravidade]\n",
    "        if len(df_categoria) <= n_amostras:\n",
    "            df_amostrados.append(df_categoria)\n",
    "        else:\n",
    "            df_amostrados.append(df_categoria.sample(n=n_amostras, random_state=42))\n",
    "    \n",
    "    df_mapa = pd.concat(df_amostrados, ignore_index=True)\n",
    "\n",
    "# Filtrar por ano se especificado\n",
    "if FILTRO_ANO:\n",
    "    df_mapa = df_mapa[df_mapa['Data'].dt.year == FILTRO_ANO]\n",
    "\n",
    "# Filtrar por UFs se especificado\n",
    "if FILTRO_UF:\n",
    "    df_mapa = df_mapa[df_mapa['UF'].isin([FILTRO_UF])]\n",
    "\n",
    "# Filtrar por regiões se especificado\n",
    "if FILTRO_REGIAO:\n",
    "    df_mapa = df_mapa[df_mapa['Regiao'].isin([FILTRO_REGIAO])]"
   ]
  },
  {
   "cell_type": "markdown",
   "id": "decc2602",
   "metadata": {},
   "source": [
    "# Construção do Mapa de Dados Otimizado"
   ]
  },
  {
   "cell_type": "markdown",
   "id": "72fb0ccb",
   "metadata": {},
   "source": [
    "### Criação do mapa rodoviário centralizado no Brasil"
   ]
  },
  {
   "cell_type": "code",
   "execution_count": null,
   "id": "8b564e91",
   "metadata": {},
   "outputs": [],
   "source": [
    "m = folium.Map(\n",
    "    location = [-14.65891498638056, -51.93789489425806], # Centro do Brasil\n",
    "    # location = [-16.766535559581794, -53.655875080657665], # Centro do Centro-Oeste\n",
    "    zoom_start = 4.5, # 4.5 para o Brasil, 6 para o Centro-Oeste\n",
    "    tiles = 'https://{s}.tile.openstreetmap.org/{z}/{x}/{y}.png',\n",
    "    attr='&copy; <a href=\"https://www.openstreetmap.org/copyright\">OpenStreetMap</a> contributors',\n",
    "    prefer_canvas=True\n",
    ")"
   ]
  },
  {
   "cell_type": "markdown",
   "id": "c2c37ed9",
   "metadata": {},
   "source": [
    "### Criação dos clusters por gravidade do sinistro"
   ]
  },
  {
   "cell_type": "code",
   "execution_count": null,
   "id": "40b552ef",
   "metadata": {},
   "outputs": [],
   "source": [
    "marker_cluster_sem_ferido = plugins.MarkerCluster(\n",
    "    name='Sem ferido',\n",
    "    options={'maxClusterRadius': 50, 'disableClusteringAtZoom': 10}\n",
    ").add_to(m)\n",
    "marker_cluster_com_ferido = plugins.MarkerCluster(\n",
    "    name='Com ferido',\n",
    "    options={'maxClusterRadius': 50, 'disableClusteringAtZoom': 10}\n",
    ").add_to(m)\n",
    "marker_cluster_com_obito = plugins.MarkerCluster(\n",
    "    name='Com óbito',\n",
    "    options={'maxClusterRadius': 50, 'disableClusteringAtZoom': 10}\n",
    ").add_to(m)"
   ]
  },
  {
   "cell_type": "markdown",
   "id": "ef687c56",
   "metadata": {},
   "source": [
    "### Criação do popup com os dados de cada sinistro"
   ]
  },
  {
   "cell_type": "code",
   "execution_count": null,
   "id": "9800efa0",
   "metadata": {},
   "outputs": [],
   "source": [
    "# Função HTML para popup\n",
    "def fancy_html(row):\n",
    "    i = row\n",
    "\n",
    "    SinistroID = df_mapa['SinistroID'].iloc[i]\n",
    "    Regiao = df_mapa['Regiao'].iloc[i]\n",
    "    UF = df_mapa['Localidade'].iloc[i]\n",
    "    Municipio = df_mapa['Municipio'].iloc[i].lower().title()\n",
    "    TipoDoSinistro = df_mapa['TipoDoSinistro'].iloc[i]\n",
    "    Causa = df_mapa['Causa'].iloc[i]\n",
    "    Gravidade = df_mapa['Gravidade'].iloc[i]\n",
    "    UPS = df_mapa['UPS'].iloc[i]\n",
    "\n",
    "    html = f\"\"\"\n",
    "    <div style=\"font-family: Arial, sans-serif; width: 320px; padding: 10px;\">\n",
    "        <h4 style=\"margin: 0 0 10px 0; color: #2A799C; border-bottom: 2px solid #2A799C; padding-bottom: 5px;\">\n",
    "            Sinistro ID: {SinistroID}\n",
    "        </h4>\n",
    "        <table style=\"width: 100%; border-collapse: collapse; font-size: 13px;\">\n",
    "            <tr>\n",
    "                <td style=\"background-color: #2A799C; color: white; padding: 5px; font-weight: bold; width: 30%;\">Regiao</td>\n",
    "                <td style=\"background-color: #C5DCE7; padding: 5px;\">{Regiao}</td>\n",
    "            </tr>\n",
    "            <tr>\n",
    "                <td style=\"background-color: #2A799C; color: white; padding: 5px; font-weight: bold; width: 30%;\">UF</td>\n",
    "                <td style=\"background-color: #C5DCE7; padding: 5px;\">{UF}</td>\n",
    "            </tr>\n",
    "            <tr>\n",
    "                <td style=\"background-color: #2A799C; color: white; padding: 5px; font-weight: bold;\">Município</td>\n",
    "                <td style=\"background-color: #C5DCE7; padding: 5px;\">{Municipio}</td>\n",
    "            </tr>\n",
    "            <tr>\n",
    "                <td style=\"background-color: #2A799C; color: white; padding: 5px; font-weight: bold;\">Gravidade</td>\n",
    "                <td style=\"background-color: #C5DCE7; padding: 5px; font-weight: bold; color: {'red' if Gravidade == 'Com óbito' else 'orange' if Gravidade == 'Com ferido' else 'yellow'};\">{Gravidade}</td>\n",
    "            </tr>\n",
    "            <tr>\n",
    "                <td style=\"background-color: #2A799C; color: white; padding: 5px; font-weight: bold;\">Tipo</td>\n",
    "                <td style=\"background-color: #C5DCE7; padding: 5px;\">{TipoDoSinistro}</td>\n",
    "            </tr>\n",
    "            <tr>\n",
    "                <td style=\"background-color: #2A799C; color: white; padding: 5px; font-weight: bold;\">Causa</td>\n",
    "                <td style=\"background-color: #C5DCE7; padding: 5px;\">{Causa}</td>\n",
    "            </tr>\n",
    "            <tr>\n",
    "                <td style=\"background-color: #2A799C; color: white; padding: 5px; font-weight: bold;\">UPS</td>\n",
    "                <td style=\"background-color: #C5DCE7; padding: 5px;\">{UPS}</td>\n",
    "            </tr>\n",
    "        </table>\n",
    "    </div>\n",
    "    \"\"\"\n",
    "    return html"
   ]
  },
  {
   "cell_type": "markdown",
   "id": "3640ee7c",
   "metadata": {},
   "source": [
    "### Criação do pontos no mapa com as informações"
   ]
  },
  {
   "cell_type": "code",
   "execution_count": null,
   "id": "03361efe",
   "metadata": {},
   "outputs": [],
   "source": [
    "for i in tqdm(range(len(df_mapa))):\n",
    "    html = fancy_html(i)\n",
    "    \n",
    "    iframe = branca.element.IFrame(html=html, width=350, height=275)\n",
    "    popup = folium.Popup(iframe, max_width=350)\n",
    "\n",
    "    lat, lon = df_mapa['Latitude'].iloc[i], df_mapa['Longitude'].iloc[i]\n",
    "    gravidade = df_mapa['Gravidade'].iloc[i]\n",
    "    \n",
    "    if gravidade == 'Sem ferido':\n",
    "        folium.CircleMarker(\n",
    "            [lat, lon], radius=4, popup=popup,\n",
    "            color='yellow', fillColor='yellow', fillOpacity=1, weight=1\n",
    "        ).add_to(marker_cluster_sem_ferido)\n",
    "    elif gravidade == 'Com ferido':\n",
    "        folium.CircleMarker(\n",
    "            [lat, lon], radius=5, popup=popup,\n",
    "            color='orange', fillColor='orange', fillOpacity=1, weight=1\n",
    "        ).add_to(marker_cluster_com_ferido)\n",
    "    elif gravidade == 'Com óbito':\n",
    "        folium.CircleMarker(\n",
    "            [lat, lon], radius=6, popup=popup,\n",
    "            color='red', fillColor='red', fillOpacity=1, weight=1\n",
    "        ).add_to(marker_cluster_com_obito)"
   ]
  },
  {
   "cell_type": "markdown",
   "id": "5e76482e",
   "metadata": {},
   "source": [
    "### Construção da caixa de seleção do mapa"
   ]
  },
  {
   "cell_type": "code",
   "execution_count": null,
   "id": "12692089",
   "metadata": {},
   "outputs": [],
   "source": [
    "folium.LayerControl().add_to(m)"
   ]
  },
  {
   "cell_type": "markdown",
   "id": "230435b9",
   "metadata": {},
   "source": [
    "### Construção da legenda do mapa"
   ]
  },
  {
   "cell_type": "code",
   "execution_count": null,
   "id": "dac8d165",
   "metadata": {},
   "outputs": [],
   "source": [
    "# Legenda otimizada\n",
    "legend_html = f'''\n",
    "     <div style=\"position: fixed; \n",
    "                 bottom: 50px; left: 50px; width: 150px; height: 120px; \n",
    "                 border:2px solid grey; z-index:9999; font-size:14px;\n",
    "                 background-color:white;\n",
    "                 \">\n",
    "     &nbsp;<b>Legenda</b><br>\n",
    "     &nbsp;<span style=\"color:yellow; font-size:18px;\">●</span>&nbsp;Sem ferido<br>\n",
    "     &nbsp;<span style=\"color:orange; font-size:18px;\">●</span>&nbsp;Com ferido<br>\n",
    "     &nbsp;<span style=\"color:red; font-size:18px;\">●</span>&nbsp;Com óbito<br>\n",
    "     &nbsp;<small>{len(df_mapa)} sinistros</small>\n",
    "      </div>\n",
    "     '''\n",
    "m.get_root().html.add_child(folium.Element(legend_html))"
   ]
  },
  {
   "cell_type": "markdown",
   "id": "8d36328a",
   "metadata": {},
   "source": [
    "### Exportar o mapa"
   ]
  },
  {
   "cell_type": "code",
   "execution_count": null,
   "id": "bc217e47",
   "metadata": {},
   "outputs": [],
   "source": [
    "# Salvar mapa otimizado\n",
    "m.save('../assets/mapa_sinistros.html')\n",
    "# m.save('../assets/sinistros_centro_oeste.html')"
   ]
  },
  {
   "cell_type": "code",
   "execution_count": null,
   "id": "3a81bbca",
   "metadata": {},
   "outputs": [],
   "source": [
    "# !jupyter nbconvert notebook.ipynb --to slides "
   ]
  }
 ],
 "metadata": {
  "kernelspec": {
   "display_name": ".venv",
   "language": "python",
   "name": "python3"
  },
  "language_info": {
   "codemirror_mode": {
    "name": "ipython",
    "version": 3
   },
   "file_extension": ".py",
   "mimetype": "text/x-python",
   "name": "python",
   "nbconvert_exporter": "python",
   "pygments_lexer": "ipython3",
   "version": "3.12.2"
  }
 },
 "nbformat": 4,
 "nbformat_minor": 5
}
